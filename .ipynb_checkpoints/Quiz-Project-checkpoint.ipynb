{
 "cells": [
  {
   "cell_type": "code",
   "execution_count": 1,
   "metadata": {},
   "outputs": [],
   "source": [
    "import pandas as pd\n",
    "import numpy as np"
   ]
  },
  {
   "cell_type": "code",
   "execution_count": 3,
   "metadata": {},
   "outputs": [],
   "source": [
    "df = pd.read_csv('FoodBalanceSheets_E_Africa_NOFLAG.csv',encoding='latin-1')"
   ]
  },
  {
   "cell_type": "code",
   "execution_count": 4,
   "metadata": {},
   "outputs": [
    {
     "data": {
      "text/html": [
       "<div>\n",
       "<style scoped>\n",
       "    .dataframe tbody tr th:only-of-type {\n",
       "        vertical-align: middle;\n",
       "    }\n",
       "\n",
       "    .dataframe tbody tr th {\n",
       "        vertical-align: top;\n",
       "    }\n",
       "\n",
       "    .dataframe thead th {\n",
       "        text-align: right;\n",
       "    }\n",
       "</style>\n",
       "<table border=\"1\" class=\"dataframe\">\n",
       "  <thead>\n",
       "    <tr style=\"text-align: right;\">\n",
       "      <th></th>\n",
       "      <th>Area Code</th>\n",
       "      <th>Area</th>\n",
       "      <th>Item Code</th>\n",
       "      <th>Item</th>\n",
       "      <th>Element Code</th>\n",
       "      <th>Element</th>\n",
       "      <th>Unit</th>\n",
       "      <th>Y2014</th>\n",
       "      <th>Y2015</th>\n",
       "      <th>Y2016</th>\n",
       "      <th>Y2017</th>\n",
       "      <th>Y2018</th>\n",
       "    </tr>\n",
       "  </thead>\n",
       "  <tbody>\n",
       "    <tr>\n",
       "      <th>0</th>\n",
       "      <td>4</td>\n",
       "      <td>Algeria</td>\n",
       "      <td>2501</td>\n",
       "      <td>Population</td>\n",
       "      <td>511</td>\n",
       "      <td>Total Population - Both sexes</td>\n",
       "      <td>1000 persons</td>\n",
       "      <td>38924.00</td>\n",
       "      <td>39728.00</td>\n",
       "      <td>40551.00</td>\n",
       "      <td>41389.00</td>\n",
       "      <td>42228.00</td>\n",
       "    </tr>\n",
       "    <tr>\n",
       "      <th>1</th>\n",
       "      <td>4</td>\n",
       "      <td>Algeria</td>\n",
       "      <td>2501</td>\n",
       "      <td>Population</td>\n",
       "      <td>5301</td>\n",
       "      <td>Domestic supply quantity</td>\n",
       "      <td>1000 tonnes</td>\n",
       "      <td>0.00</td>\n",
       "      <td>0.00</td>\n",
       "      <td>0.00</td>\n",
       "      <td>0.00</td>\n",
       "      <td>0.00</td>\n",
       "    </tr>\n",
       "    <tr>\n",
       "      <th>2</th>\n",
       "      <td>4</td>\n",
       "      <td>Algeria</td>\n",
       "      <td>2901</td>\n",
       "      <td>Grand Total</td>\n",
       "      <td>664</td>\n",
       "      <td>Food supply (kcal/capita/day)</td>\n",
       "      <td>kcal/capita/day</td>\n",
       "      <td>3377.00</td>\n",
       "      <td>3379.00</td>\n",
       "      <td>3372.00</td>\n",
       "      <td>3341.00</td>\n",
       "      <td>3322.00</td>\n",
       "    </tr>\n",
       "    <tr>\n",
       "      <th>3</th>\n",
       "      <td>4</td>\n",
       "      <td>Algeria</td>\n",
       "      <td>2901</td>\n",
       "      <td>Grand Total</td>\n",
       "      <td>674</td>\n",
       "      <td>Protein supply quantity (g/capita/day)</td>\n",
       "      <td>g/capita/day</td>\n",
       "      <td>94.90</td>\n",
       "      <td>94.35</td>\n",
       "      <td>94.72</td>\n",
       "      <td>92.82</td>\n",
       "      <td>91.83</td>\n",
       "    </tr>\n",
       "    <tr>\n",
       "      <th>4</th>\n",
       "      <td>4</td>\n",
       "      <td>Algeria</td>\n",
       "      <td>2901</td>\n",
       "      <td>Grand Total</td>\n",
       "      <td>684</td>\n",
       "      <td>Fat supply quantity (g/capita/day)</td>\n",
       "      <td>g/capita/day</td>\n",
       "      <td>80.06</td>\n",
       "      <td>79.36</td>\n",
       "      <td>77.40</td>\n",
       "      <td>80.19</td>\n",
       "      <td>77.28</td>\n",
       "    </tr>\n",
       "  </tbody>\n",
       "</table>\n",
       "</div>"
      ],
      "text/plain": [
       "   Area Code     Area  Item Code         Item  Element Code  \\\n",
       "0          4  Algeria       2501   Population           511   \n",
       "1          4  Algeria       2501   Population          5301   \n",
       "2          4  Algeria       2901  Grand Total           664   \n",
       "3          4  Algeria       2901  Grand Total           674   \n",
       "4          4  Algeria       2901  Grand Total           684   \n",
       "\n",
       "                                  Element             Unit     Y2014  \\\n",
       "0           Total Population - Both sexes     1000 persons  38924.00   \n",
       "1                Domestic supply quantity      1000 tonnes      0.00   \n",
       "2           Food supply (kcal/capita/day)  kcal/capita/day   3377.00   \n",
       "3  Protein supply quantity (g/capita/day)     g/capita/day     94.90   \n",
       "4      Fat supply quantity (g/capita/day)     g/capita/day     80.06   \n",
       "\n",
       "      Y2015     Y2016     Y2017     Y2018  \n",
       "0  39728.00  40551.00  41389.00  42228.00  \n",
       "1      0.00      0.00      0.00      0.00  \n",
       "2   3379.00   3372.00   3341.00   3322.00  \n",
       "3     94.35     94.72     92.82     91.83  \n",
       "4     79.36     77.40     80.19     77.28  "
      ]
     },
     "execution_count": 4,
     "metadata": {},
     "output_type": "execute_result"
    }
   ],
   "source": [
    "df.head()"
   ]
  },
  {
   "cell_type": "code",
   "execution_count": 7,
   "metadata": {},
   "outputs": [
    {
     "data": {
      "text/plain": [
       "Item\n",
       "Alcohol, Non-Food        2403.00\n",
       "Alcoholic Beverages    102410.11\n",
       "Animal Products         11935.65\n",
       "Animal fats            209460.54\n",
       "Apples and products      9499.23\n",
       "                         ...    \n",
       "Vegetables, Other      155038.96\n",
       "Vegetal Products       107145.19\n",
       "Wheat and products     232670.13\n",
       "Wine                     4497.36\n",
       "Yams                   200396.96\n",
       "Name: Y2014, Length: 119, dtype: float64"
      ]
     },
     "execution_count": 7,
     "metadata": {},
     "output_type": "execute_result"
    }
   ],
   "source": [
    "df.groupby('Item')['Y2014'].sum()"
   ]
  },
  {
   "cell_type": "code",
   "execution_count": 8,
   "metadata": {},
   "outputs": [
    {
     "data": {
      "text/plain": [
       "Item\n",
       "Alcohol, Non-Food        2348.00\n",
       "Alcoholic Beverages     95581.06\n",
       "Animal Products         11547.65\n",
       "Animal fats            269617.53\n",
       "Apples and products     10198.90\n",
       "                         ...    \n",
       "Vegetables, Other      157752.59\n",
       "Vegetal Products       107655.20\n",
       "Wheat and products     240047.62\n",
       "Wine                     4178.02\n",
       "Yams                   229174.59\n",
       "Name: Y2017, Length: 119, dtype: float64"
      ]
     },
     "execution_count": 8,
     "metadata": {},
     "output_type": "execute_result"
    }
   ],
   "source": [
    "df.groupby('Item')['Y2017'].sum()"
   ]
  },
  {
   "cell_type": "code",
   "execution_count": 13,
   "metadata": {},
   "outputs": [
    {
     "data": {
      "text/plain": [
       "135.23596649549236"
      ]
     },
     "execution_count": 13,
     "metadata": {},
     "output_type": "execute_result"
    }
   ],
   "source": [
    "df['Y2015'].mean()"
   ]
  },
  {
   "cell_type": "code",
   "execution_count": 14,
   "metadata": {},
   "outputs": [
    {
     "data": {
      "text/plain": [
       "1603.4039839423301"
      ]
     },
     "execution_count": 14,
     "metadata": {},
     "output_type": "execute_result"
    }
   ],
   "source": [
    "df['Y2015'].std()"
   ]
  },
  {
   "cell_type": "code",
   "execution_count": 18,
   "metadata": {},
   "outputs": [
    {
     "data": {
      "text/plain": [
       "1535"
      ]
     },
     "execution_count": 18,
     "metadata": {},
     "output_type": "execute_result"
    }
   ],
   "source": [
    "df['Y2016'].isnull().sum()"
   ]
  },
  {
   "cell_type": "code",
   "execution_count": 30,
   "metadata": {},
   "outputs": [
    {
     "data": {
      "text/html": [
       "<div>\n",
       "<style scoped>\n",
       "    .dataframe tbody tr th:only-of-type {\n",
       "        vertical-align: middle;\n",
       "    }\n",
       "\n",
       "    .dataframe tbody tr th {\n",
       "        vertical-align: top;\n",
       "    }\n",
       "\n",
       "    .dataframe thead th {\n",
       "        text-align: right;\n",
       "    }\n",
       "</style>\n",
       "<table border=\"1\" class=\"dataframe\">\n",
       "  <thead>\n",
       "    <tr style=\"text-align: right;\">\n",
       "      <th></th>\n",
       "      <th></th>\n",
       "      <th>Area Code</th>\n",
       "      <th>Item Code</th>\n",
       "      <th>Y2014</th>\n",
       "      <th>Y2015</th>\n",
       "      <th>Y2016</th>\n",
       "      <th>Y2017</th>\n",
       "      <th>Y2018</th>\n",
       "    </tr>\n",
       "    <tr>\n",
       "      <th>Element Code</th>\n",
       "      <th></th>\n",
       "      <th></th>\n",
       "      <th></th>\n",
       "      <th></th>\n",
       "      <th></th>\n",
       "      <th></th>\n",
       "      <th></th>\n",
       "      <th></th>\n",
       "    </tr>\n",
       "  </thead>\n",
       "  <tbody>\n",
       "    <tr>\n",
       "      <th rowspan=\"5\" valign=\"top\">511</th>\n",
       "      <th>Area Code</th>\n",
       "      <td>1.000000</td>\n",
       "      <td>NaN</td>\n",
       "      <td>0.149348</td>\n",
       "      <td>0.149792</td>\n",
       "      <td>0.150292</td>\n",
       "      <td>0.150840</td>\n",
       "      <td>0.151415</td>\n",
       "    </tr>\n",
       "    <tr>\n",
       "      <th>Item Code</th>\n",
       "      <td>NaN</td>\n",
       "      <td>NaN</td>\n",
       "      <td>NaN</td>\n",
       "      <td>NaN</td>\n",
       "      <td>NaN</td>\n",
       "      <td>NaN</td>\n",
       "      <td>NaN</td>\n",
       "    </tr>\n",
       "    <tr>\n",
       "      <th>Y2014</th>\n",
       "      <td>0.149348</td>\n",
       "      <td>NaN</td>\n",
       "      <td>1.000000</td>\n",
       "      <td>0.999988</td>\n",
       "      <td>0.999951</td>\n",
       "      <td>0.999885</td>\n",
       "      <td>0.999791</td>\n",
       "    </tr>\n",
       "    <tr>\n",
       "      <th>Y2015</th>\n",
       "      <td>0.149792</td>\n",
       "      <td>NaN</td>\n",
       "      <td>0.999988</td>\n",
       "      <td>1.000000</td>\n",
       "      <td>0.999987</td>\n",
       "      <td>0.999947</td>\n",
       "      <td>0.999878</td>\n",
       "    </tr>\n",
       "    <tr>\n",
       "      <th>Y2016</th>\n",
       "      <td>0.150292</td>\n",
       "      <td>NaN</td>\n",
       "      <td>0.999951</td>\n",
       "      <td>0.999987</td>\n",
       "      <td>1.000000</td>\n",
       "      <td>0.999986</td>\n",
       "      <td>0.999944</td>\n",
       "    </tr>\n",
       "    <tr>\n",
       "      <th>...</th>\n",
       "      <th>...</th>\n",
       "      <td>...</td>\n",
       "      <td>...</td>\n",
       "      <td>...</td>\n",
       "      <td>...</td>\n",
       "      <td>...</td>\n",
       "      <td>...</td>\n",
       "      <td>...</td>\n",
       "    </tr>\n",
       "    <tr>\n",
       "      <th rowspan=\"5\" valign=\"top\">5911</th>\n",
       "      <th>Y2014</th>\n",
       "      <td>0.005901</td>\n",
       "      <td>0.056301</td>\n",
       "      <td>1.000000</td>\n",
       "      <td>0.976942</td>\n",
       "      <td>0.992694</td>\n",
       "      <td>0.941934</td>\n",
       "      <td>0.942024</td>\n",
       "    </tr>\n",
       "    <tr>\n",
       "      <th>Y2015</th>\n",
       "      <td>0.007883</td>\n",
       "      <td>0.050526</td>\n",
       "      <td>0.976942</td>\n",
       "      <td>1.000000</td>\n",
       "      <td>0.965195</td>\n",
       "      <td>0.863665</td>\n",
       "      <td>0.863140</td>\n",
       "    </tr>\n",
       "    <tr>\n",
       "      <th>Y2016</th>\n",
       "      <td>0.006203</td>\n",
       "      <td>0.062306</td>\n",
       "      <td>0.992694</td>\n",
       "      <td>0.965195</td>\n",
       "      <td>1.000000</td>\n",
       "      <td>0.963790</td>\n",
       "      <td>0.963378</td>\n",
       "    </tr>\n",
       "    <tr>\n",
       "      <th>Y2017</th>\n",
       "      <td>0.005156</td>\n",
       "      <td>0.063080</td>\n",
       "      <td>0.941934</td>\n",
       "      <td>0.863665</td>\n",
       "      <td>0.963790</td>\n",
       "      <td>1.000000</td>\n",
       "      <td>0.999409</td>\n",
       "    </tr>\n",
       "    <tr>\n",
       "      <th>Y2018</th>\n",
       "      <td>0.004272</td>\n",
       "      <td>0.063211</td>\n",
       "      <td>0.942024</td>\n",
       "      <td>0.863140</td>\n",
       "      <td>0.963378</td>\n",
       "      <td>0.999409</td>\n",
       "      <td>1.000000</td>\n",
       "    </tr>\n",
       "  </tbody>\n",
       "</table>\n",
       "<p>126 rows × 7 columns</p>\n",
       "</div>"
      ],
      "text/plain": [
       "                        Area Code  Item Code     Y2014     Y2015     Y2016  \\\n",
       "Element Code                                                                 \n",
       "511          Area Code   1.000000        NaN  0.149348  0.149792  0.150292   \n",
       "             Item Code        NaN        NaN       NaN       NaN       NaN   \n",
       "             Y2014       0.149348        NaN  1.000000  0.999988  0.999951   \n",
       "             Y2015       0.149792        NaN  0.999988  1.000000  0.999987   \n",
       "             Y2016       0.150292        NaN  0.999951  0.999987  1.000000   \n",
       "...                           ...        ...       ...       ...       ...   \n",
       "5911         Y2014       0.005901   0.056301  1.000000  0.976942  0.992694   \n",
       "             Y2015       0.007883   0.050526  0.976942  1.000000  0.965195   \n",
       "             Y2016       0.006203   0.062306  0.992694  0.965195  1.000000   \n",
       "             Y2017       0.005156   0.063080  0.941934  0.863665  0.963790   \n",
       "             Y2018       0.004272   0.063211  0.942024  0.863140  0.963378   \n",
       "\n",
       "                           Y2017     Y2018  \n",
       "Element Code                                \n",
       "511          Area Code  0.150840  0.151415  \n",
       "             Item Code       NaN       NaN  \n",
       "             Y2014      0.999885  0.999791  \n",
       "             Y2015      0.999947  0.999878  \n",
       "             Y2016      0.999986  0.999944  \n",
       "...                          ...       ...  \n",
       "5911         Y2014      0.941934  0.942024  \n",
       "             Y2015      0.863665  0.863140  \n",
       "             Y2016      0.963790  0.963378  \n",
       "             Y2017      1.000000  0.999409  \n",
       "             Y2018      0.999409  1.000000  \n",
       "\n",
       "[126 rows x 7 columns]"
      ]
     },
     "execution_count": 30,
     "metadata": {},
     "output_type": "execute_result"
    }
   ],
   "source": [
    "df.groupby('Element Code').corr()"
   ]
  },
  {
   "cell_type": "code",
   "execution_count": 32,
   "metadata": {},
   "outputs": [],
   "source": [
    "ele =df.groupby('Element')"
   ]
  },
  {
   "cell_type": "code",
   "execution_count": 43,
   "metadata": {},
   "outputs": [
    {
     "data": {
      "text/plain": [
       "Element\n",
       "Domestic supply quantity                  2161192.10\n",
       "Export Quantity                            181594.80\n",
       "Fat supply quantity (g/capita/day)          10258.69\n",
       "Feed                                       233489.68\n",
       "Food                                      1303841.28\n",
       "Food supply (kcal/capita/day)              455261.00\n",
       "Food supply quantity (kg/capita/yr)         49056.85\n",
       "Import Quantity                            287997.09\n",
       "Losses                                     163902.00\n",
       "Other uses (non-food)                       91300.97\n",
       "Processing                                 308429.00\n",
       "Production                                2075072.89\n",
       "Protein supply quantity (g/capita/day)      11833.56\n",
       "Residuals                                   34864.00\n",
       "Seed                                        25263.14\n",
       "Stock Variation                             20577.91\n",
       "Total Population - Both sexes             1140605.00\n",
       "Tourist consumption                            90.00\n",
       "Name: Y2018, dtype: float64"
      ]
     },
     "execution_count": 43,
     "metadata": {},
     "output_type": "execute_result"
    }
   ],
   "source": [
    "ele['Y2018'].sum()"
   ]
  },
  {
   "cell_type": "code",
   "execution_count": 100,
   "metadata": {},
   "outputs": [
    {
     "name": "stderr",
     "output_type": "stream",
     "text": [
      "<ipython-input-100-4efea365cdaf>:1: FutureWarning: Indexing with multiple keys (implicitly converted to a tuple of keys) will be deprecated, use a list instead.\n",
      "  ele['Area','Y2018']\n"
     ]
    },
    {
     "data": {
      "text/plain": [
       "<pandas.core.groupby.generic.DataFrameGroupBy object at 0x000001C968E49B20>"
      ]
     },
     "execution_count": 100,
     "metadata": {},
     "output_type": "execute_result"
    }
   ],
   "source": [
    "ele['Area','Y2018']"
   ]
  },
  {
   "cell_type": "code",
   "execution_count": 115,
   "metadata": {},
   "outputs": [
    {
     "data": {
      "text/plain": [
       "Element                   Area                 \n",
       "Domestic supply quantity  Algeria                  90023.42\n",
       "                          Angola                   59590.22\n",
       "                          Benin                    31447.90\n",
       "                          Botswana                  3045.85\n",
       "                          Burkina Faso             25705.16\n",
       "                                                     ...   \n",
       "Tourist consumption       Cabo Verde                   7.00\n",
       "                          Egypt                       23.00\n",
       "                          Kenya                       17.00\n",
       "                          Mauritius                   31.00\n",
       "                          Sao Tome and Principe       12.00\n",
       "Name: Y2018, Length: 803, dtype: float64"
      ]
     },
     "execution_count": 115,
     "metadata": {},
     "output_type": "execute_result"
    }
   ],
   "source": [
    "df.groupby(['Element','Area'])['Y2018'].sum()"
   ]
  },
  {
   "cell_type": "code",
   "execution_count": 102,
   "metadata": {},
   "outputs": [
    {
     "name": "stderr",
     "output_type": "stream",
     "text": [
      "<ipython-input-102-d21f465ea1df>:1: FutureWarning: Indexing with multiple keys (implicitly converted to a tuple of keys) will be deprecated, use a list instead.\n",
      "  al=df.groupby('Element')['Area','Y2018']\n"
     ]
    }
   ],
   "source": [
    "al=df.groupby('Element')['Area','Y2018']"
   ]
  },
  {
   "cell_type": "code",
   "execution_count": 63,
   "metadata": {},
   "outputs": [
    {
     "data": {
      "text/plain": [
       "49"
      ]
     },
     "execution_count": 63,
     "metadata": {},
     "output_type": "execute_result"
    }
   ],
   "source": [
    "df['Area'].nunique()"
   ]
  }
 ],
 "metadata": {
  "kernelspec": {
   "display_name": "Python 3",
   "language": "python",
   "name": "python3"
  },
  "language_info": {
   "codemirror_mode": {
    "name": "ipython",
    "version": 3
   },
   "file_extension": ".py",
   "mimetype": "text/x-python",
   "name": "python",
   "nbconvert_exporter": "python",
   "pygments_lexer": "ipython3",
   "version": "3.8.3"
  }
 },
 "nbformat": 4,
 "nbformat_minor": 4
}
